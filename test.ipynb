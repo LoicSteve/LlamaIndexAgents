{
 "cells": [
  {
   "cell_type": "code",
   "execution_count": 6,
   "metadata": {},
   "outputs": [
    {
     "name": "stdout",
     "output_type": "stream",
     "text": [
      " I'm just a computer program, so I don't have feelings, but I'm here and ready to help you! How can I assist you today?\n"
     ]
    }
   ],
   "source": [
    "from llama_index.llms.huggingface_api import HuggingFaceInferenceAPI\n",
    "import os\n",
    "from dotenv import load_dotenv \n",
    "\n",
    "#load the .env file\n",
    "load_dotenv()\n",
    "\n",
    "\n",
    "# Retrieve HF_TOKEN from the environment variables\n",
    "hf_token = os.getenv(\"HF_TOKEN\")\n",
    "\n",
    "llm = HuggingFaceInferenceAPI(\n",
    "    model_name=\"Qwen/Qwen2.5-Coder-32B-Instruct\",\n",
    "    temperature=0.1,\n",
    "    max_tokens=10,\n",
    "    token=hf_token,\n",
    ")\n",
    "\n",
    "response = llm.complete(\"Hello, how are you?\")\n",
    "print(response)\n",
    "\n"
   ]
  },
  {
   "cell_type": "code",
   "execution_count": 7,
   "metadata": {},
   "outputs": [],
   "source": [
    "response1 = llm.complete(\"What is an agentic RAG?\")"
   ]
  },
  {
   "cell_type": "code",
   "execution_count": 8,
   "metadata": {},
   "outputs": [
    {
     "name": "stdout",
     "output_type": "stream",
     "text": [
      " An agentic RAG is a type of Retrieval-Augmented Generation (RAG) system that incorporates an agent to manage and optimize the retrieval and generation processes. In traditional RAG systems, a retriever fetches relevant documents or passages from a knowledge base, and a generator creates a response based on the retrieved information. However, in an agentic RAG, an agent is introduced to enhance the system's capabilities.\n",
      "\n",
      "The agent in an agentic RAG can perform several functions, such as:\n",
      "\n",
      "1. Query refinement: The agent can improve the quality of the queries sent to the retriever by adding more context, clarifying ambiguous terms, or breaking down complex queries into simpler ones.\n",
      "2. Document selection and ranking: The agent can analyze the retrieved documents and rank them based on their relevance, accuracy, and other criteria. It can also select the most appropriate documents for the generator to use.\n",
      "3. Response generation and refinement: The agent can work with the generator to create more coherent, accurate, and contextually relevant responses. It can also refine the generated responses by adding missing information, correcting errors, or improving the overall quality of the output.\n",
      "4. Feedback and learning: The agent can learn from user interactions and feedback to improve its performance over time. It can\n"
     ]
    }
   ],
   "source": [
    "print(response1)"
   ]
  },
  {
   "cell_type": "code",
   "execution_count": null,
   "metadata": {},
   "outputs": [],
   "source": []
  }
 ],
 "metadata": {
  "kernelspec": {
   "display_name": "LlamaIndexAgent",
   "language": "python",
   "name": "python3"
  },
  "language_info": {
   "codemirror_mode": {
    "name": "ipython",
    "version": 3
   },
   "file_extension": ".py",
   "mimetype": "text/x-python",
   "name": "python",
   "nbconvert_exporter": "python",
   "pygments_lexer": "ipython3",
   "version": "3.10.9"
  }
 },
 "nbformat": 4,
 "nbformat_minor": 2
}
